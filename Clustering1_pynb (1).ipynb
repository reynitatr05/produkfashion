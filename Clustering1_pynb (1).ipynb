{
  "nbformat": 4,
  "nbformat_minor": 0,
  "metadata": {
    "colab": {
      "provenance": []
    },
    "kernelspec": {
      "name": "python3",
      "display_name": "Python 3"
    },
    "language_info": {
      "name": "python"
    }
  },
  "cells": [
    {
      "cell_type": "markdown",
      "source": [
        "###Nama Anggota Kelompok :\n",
        "1. Fadhila Asla Shana (22.12.2538)\n",
        "2. Renita Tri Hastuti (22.12.2476)"
      ],
      "metadata": {
        "id": "EvvbAPKJYTCl"
      }
    },
    {
      "cell_type": "code",
      "execution_count": 1,
      "metadata": {
        "colab": {
          "base_uri": "https://localhost:8080/"
        },
        "id": "wkRwMZW4R0wH",
        "outputId": "7c37b138-877a-46fd-ab39-e0275a01e7e2"
      },
      "outputs": [
        {
          "output_type": "stream",
          "name": "stdout",
          "text": [
            "Requirement already satisfied: matplotlib in /usr/local/lib/python3.11/dist-packages (3.10.0)\n",
            "Requirement already satisfied: contourpy>=1.0.1 in /usr/local/lib/python3.11/dist-packages (from matplotlib) (1.3.2)\n",
            "Requirement already satisfied: cycler>=0.10 in /usr/local/lib/python3.11/dist-packages (from matplotlib) (0.12.1)\n",
            "Requirement already satisfied: fonttools>=4.22.0 in /usr/local/lib/python3.11/dist-packages (from matplotlib) (4.58.2)\n",
            "Requirement already satisfied: kiwisolver>=1.3.1 in /usr/local/lib/python3.11/dist-packages (from matplotlib) (1.4.8)\n",
            "Requirement already satisfied: numpy>=1.23 in /usr/local/lib/python3.11/dist-packages (from matplotlib) (2.0.2)\n",
            "Requirement already satisfied: packaging>=20.0 in /usr/local/lib/python3.11/dist-packages (from matplotlib) (24.2)\n",
            "Requirement already satisfied: pillow>=8 in /usr/local/lib/python3.11/dist-packages (from matplotlib) (11.2.1)\n",
            "Requirement already satisfied: pyparsing>=2.3.1 in /usr/local/lib/python3.11/dist-packages (from matplotlib) (3.2.3)\n",
            "Requirement already satisfied: python-dateutil>=2.7 in /usr/local/lib/python3.11/dist-packages (from matplotlib) (2.9.0.post0)\n",
            "Requirement already satisfied: six>=1.5 in /usr/local/lib/python3.11/dist-packages (from python-dateutil>=2.7->matplotlib) (1.17.0)\n",
            "Requirement already satisfied: seaborn in /usr/local/lib/python3.11/dist-packages (0.13.2)\n",
            "Requirement already satisfied: numpy!=1.24.0,>=1.20 in /usr/local/lib/python3.11/dist-packages (from seaborn) (2.0.2)\n",
            "Requirement already satisfied: pandas>=1.2 in /usr/local/lib/python3.11/dist-packages (from seaborn) (2.2.2)\n",
            "Requirement already satisfied: matplotlib!=3.6.1,>=3.4 in /usr/local/lib/python3.11/dist-packages (from seaborn) (3.10.0)\n",
            "Requirement already satisfied: contourpy>=1.0.1 in /usr/local/lib/python3.11/dist-packages (from matplotlib!=3.6.1,>=3.4->seaborn) (1.3.2)\n",
            "Requirement already satisfied: cycler>=0.10 in /usr/local/lib/python3.11/dist-packages (from matplotlib!=3.6.1,>=3.4->seaborn) (0.12.1)\n",
            "Requirement already satisfied: fonttools>=4.22.0 in /usr/local/lib/python3.11/dist-packages (from matplotlib!=3.6.1,>=3.4->seaborn) (4.58.2)\n",
            "Requirement already satisfied: kiwisolver>=1.3.1 in /usr/local/lib/python3.11/dist-packages (from matplotlib!=3.6.1,>=3.4->seaborn) (1.4.8)\n",
            "Requirement already satisfied: packaging>=20.0 in /usr/local/lib/python3.11/dist-packages (from matplotlib!=3.6.1,>=3.4->seaborn) (24.2)\n",
            "Requirement already satisfied: pillow>=8 in /usr/local/lib/python3.11/dist-packages (from matplotlib!=3.6.1,>=3.4->seaborn) (11.2.1)\n",
            "Requirement already satisfied: pyparsing>=2.3.1 in /usr/local/lib/python3.11/dist-packages (from matplotlib!=3.6.1,>=3.4->seaborn) (3.2.3)\n",
            "Requirement already satisfied: python-dateutil>=2.7 in /usr/local/lib/python3.11/dist-packages (from matplotlib!=3.6.1,>=3.4->seaborn) (2.9.0.post0)\n",
            "Requirement already satisfied: pytz>=2020.1 in /usr/local/lib/python3.11/dist-packages (from pandas>=1.2->seaborn) (2025.2)\n",
            "Requirement already satisfied: tzdata>=2022.7 in /usr/local/lib/python3.11/dist-packages (from pandas>=1.2->seaborn) (2025.2)\n",
            "Requirement already satisfied: six>=1.5 in /usr/local/lib/python3.11/dist-packages (from python-dateutil>=2.7->matplotlib!=3.6.1,>=3.4->seaborn) (1.17.0)\n"
          ]
        }
      ],
      "source": [
        "! pip install matplotlib\n",
        "! pip install seaborn"
      ]
    },
    {
      "cell_type": "code",
      "source": [
        "import pandas as pd\n",
        "from google.colab import drive\n",
        "import matplotlib.pyplot as plt\n",
        "import seaborn as sns\n",
        "import numpy as np\n",
        "import scipy.cluster.hierarchy as shc\n",
        "from sklearn.cluster import KMeans, AgglomerativeClustering\n",
        "from sklearn.metrics import silhouette_score\n",
        "from sklearn.decomposition import PCA\n",
        "import gdown\n",
        "from sklearn.preprocessing import LabelEncoder, StandardScaler\n",
        "from sklearn.cluster import KMeans\n",
        "from sklearn.metrics import davies_bouldin_score"
      ],
      "metadata": {
        "id": "Lw-Hmg0aR3Pu"
      },
      "execution_count": 14,
      "outputs": []
    },
    {
      "cell_type": "code",
      "source": [
        "drive.mount('/content/drive')\n",
        "df = pd.read_csv ('/content/drive/MyDrive/SEMESTER 6/Machine Learning 03/product_fashion.csv')\n",
        "\n",
        "print(\"Dataset Information:\")\n",
        "print(df.info())\n",
        "print(\"\\nFirst 5 Rows:\")\n",
        "print(df.head())"
      ],
      "metadata": {
        "colab": {
          "base_uri": "https://localhost:8080/"
        },
        "id": "7BY8CwbYR_TJ",
        "outputId": "762c3f99-aef0-4c48-937e-211c6c62fe91"
      },
      "execution_count": 3,
      "outputs": [
        {
          "output_type": "stream",
          "name": "stdout",
          "text": [
            "Mounted at /content/drive\n",
            "Dataset Information:\n",
            "<class 'pandas.core.frame.DataFrame'>\n",
            "RangeIndex: 12491 entries, 0 to 12490\n",
            "Data columns (total 8 columns):\n",
            " #   Column        Non-Null Count  Dtype \n",
            "---  ------        --------------  ----- \n",
            " 0   ProductID     12491 non-null  int64 \n",
            " 1   ProductName   12491 non-null  object\n",
            " 2   ProductBrand  12491 non-null  object\n",
            " 3   Gender        12491 non-null  object\n",
            " 4   Price (INR)   12491 non-null  int64 \n",
            " 5   NumImages     12491 non-null  int64 \n",
            " 6   Description   12491 non-null  object\n",
            " 7   PrimaryColor  11597 non-null  object\n",
            "dtypes: int64(3), object(5)\n",
            "memory usage: 780.8+ KB\n",
            "None\n",
            "\n",
            "First 5 Rows:\n",
            "   ProductID                                        ProductName ProductBrand  \\\n",
            "0   10017413  DKNY Unisex Black & Grey Printed Medium Trolle...         DKNY   \n",
            "1   10016283  EthnoVogue Women Beige & Grey Made to Measure ...   EthnoVogue   \n",
            "2   10009781  SPYKAR Women Pink Alexa Super Skinny Fit High-...       SPYKAR   \n",
            "3   10015921  Raymond Men Blue Self-Design Single-Breasted B...      Raymond   \n",
            "4   10017833  Parx Men Brown & Off-White Slim Fit Printed Ca...         Parx   \n",
            "\n",
            "   Gender  Price (INR)  NumImages  \\\n",
            "0  Unisex        11745          7   \n",
            "1   Women         5810          7   \n",
            "2   Women          899          7   \n",
            "3     Men         5599          5   \n",
            "4     Men          759          5   \n",
            "\n",
            "                                         Description PrimaryColor  \n",
            "0  Black and grey printed medium trolley bag, sec...        Black  \n",
            "1  Beige & Grey made to measure kurta with churid...        Beige  \n",
            "2  Pink coloured wash 5-pocket high-rise cropped ...         Pink  \n",
            "3  Blue self-design bandhgala suitBlue self-desig...         Blue  \n",
            "4  Brown and off-white printed casual shirt, has ...        White  \n"
          ]
        }
      ]
    },
    {
      "cell_type": "code",
      "source": [
        "print(\"Informasi Dataset Sebelum Pembersihan:\")\n",
        "print(df.info())\n",
        "print(df.head())"
      ],
      "metadata": {
        "colab": {
          "base_uri": "https://localhost:8080/"
        },
        "id": "OQsT7LynSIja",
        "outputId": "add46fec-370b-4790-8bc5-abe5764bef24"
      },
      "execution_count": 4,
      "outputs": [
        {
          "output_type": "stream",
          "name": "stdout",
          "text": [
            "Informasi Dataset Sebelum Pembersihan:\n",
            "<class 'pandas.core.frame.DataFrame'>\n",
            "RangeIndex: 12491 entries, 0 to 12490\n",
            "Data columns (total 8 columns):\n",
            " #   Column        Non-Null Count  Dtype \n",
            "---  ------        --------------  ----- \n",
            " 0   ProductID     12491 non-null  int64 \n",
            " 1   ProductName   12491 non-null  object\n",
            " 2   ProductBrand  12491 non-null  object\n",
            " 3   Gender        12491 non-null  object\n",
            " 4   Price (INR)   12491 non-null  int64 \n",
            " 5   NumImages     12491 non-null  int64 \n",
            " 6   Description   12491 non-null  object\n",
            " 7   PrimaryColor  11597 non-null  object\n",
            "dtypes: int64(3), object(5)\n",
            "memory usage: 780.8+ KB\n",
            "None\n",
            "   ProductID                                        ProductName ProductBrand  \\\n",
            "0   10017413  DKNY Unisex Black & Grey Printed Medium Trolle...         DKNY   \n",
            "1   10016283  EthnoVogue Women Beige & Grey Made to Measure ...   EthnoVogue   \n",
            "2   10009781  SPYKAR Women Pink Alexa Super Skinny Fit High-...       SPYKAR   \n",
            "3   10015921  Raymond Men Blue Self-Design Single-Breasted B...      Raymond   \n",
            "4   10017833  Parx Men Brown & Off-White Slim Fit Printed Ca...         Parx   \n",
            "\n",
            "   Gender  Price (INR)  NumImages  \\\n",
            "0  Unisex        11745          7   \n",
            "1   Women         5810          7   \n",
            "2   Women          899          7   \n",
            "3     Men         5599          5   \n",
            "4     Men          759          5   \n",
            "\n",
            "                                         Description PrimaryColor  \n",
            "0  Black and grey printed medium trolley bag, sec...        Black  \n",
            "1  Beige & Grey made to measure kurta with churid...        Beige  \n",
            "2  Pink coloured wash 5-pocket high-rise cropped ...         Pink  \n",
            "3  Blue self-design bandhgala suitBlue self-desig...         Blue  \n",
            "4  Brown and off-white printed casual shirt, has ...        White  \n"
          ]
        }
      ]
    },
    {
      "cell_type": "code",
      "source": [
        "df = df[['Gender', 'Price (INR)']].dropna()\n"
      ],
      "metadata": {
        "id": "oYkbx06vSLQf"
      },
      "execution_count": 5,
      "outputs": []
    },
    {
      "cell_type": "code",
      "source": [
        "# Menghapus data duplikat\n",
        "df_cleaned = df.drop_duplicates()\n",
        "\n",
        "# Menghapus kolom NumImages jika ada\n",
        "if 'NumImages' in df_cleaned.columns:\n",
        "    df_cleaned = df_cleaned.drop(columns=['NumImages'])\n",
        "else:\n",
        "    df_cleaned = df_cleaned.copy()\n",
        "\n",
        "# Memastikan total data duplikat setelah pembersihan (seharusnya 0)\n",
        "total_duplicates_after = df_cleaned.duplicated().sum()\n",
        "print(\"\\nTotal data duplikat Setelah Pembersihan:\", total_duplicates_after)\n",
        "\n",
        "# Memastikan jumlah baris sebelum dan sesudah pembersihan\n",
        "print(\"\\nJumlah baris sebelum pembersihan:\", len(df))\n",
        "print(\"Jumlah baris setelah pembersihan:\", len(df_cleaned))\n",
        "\n",
        "# Jika jumlah baris tetap sama, beri peringatan\n",
        "if len(df) == len(df_cleaned):\n",
        "    print(\"\\n[PERINGATAN] Tidak ada duplikasi yang dihapus karena dataset awal tidak memiliki duplikasi.\")\n",
        "else:\n",
        "    print(\"\\n[INFO] Duplikasi berhasil dihapus.\")\n"
      ],
      "metadata": {
        "colab": {
          "base_uri": "https://localhost:8080/"
        },
        "id": "lnuF_GYASQGs",
        "outputId": "a0aca81d-a66d-4bfb-bab4-5581ca10f579"
      },
      "execution_count": 6,
      "outputs": [
        {
          "output_type": "stream",
          "name": "stdout",
          "text": [
            "\n",
            "Total data duplikat Setelah Pembersihan: 0\n",
            "\n",
            "Jumlah baris sebelum pembersihan: 12491\n",
            "Jumlah baris setelah pembersihan: 2427\n",
            "\n",
            "[INFO] Duplikasi berhasil dihapus.\n"
          ]
        }
      ]
    },
    {
      "cell_type": "code",
      "source": [
        "#Menampilkan informasi dataset setelah pembersihan\n",
        "print(\"Informasi dataset Setelah Pembersihan:\")\n",
        "print(df_cleaned.info())"
      ],
      "metadata": {
        "colab": {
          "base_uri": "https://localhost:8080/"
        },
        "id": "e_7dYMqnTBOV",
        "outputId": "52929155-23e8-4da0-96de-459bb1d04c38"
      },
      "execution_count": 7,
      "outputs": [
        {
          "output_type": "stream",
          "name": "stdout",
          "text": [
            "Informasi dataset Setelah Pembersihan:\n",
            "<class 'pandas.core.frame.DataFrame'>\n",
            "Index: 2427 entries, 0 to 12489\n",
            "Data columns (total 2 columns):\n",
            " #   Column       Non-Null Count  Dtype \n",
            "---  ------       --------------  ----- \n",
            " 0   Gender       2427 non-null   object\n",
            " 1   Price (INR)  2427 non-null   int64 \n",
            "dtypes: int64(1), object(1)\n",
            "memory usage: 56.9+ KB\n",
            "None\n"
          ]
        }
      ]
    },
    {
      "cell_type": "code",
      "source": [
        "# Encoding Gender\n",
        "le = LabelEncoder()\n",
        "df['Gender_encoded'] = le.fit_transform(df['Gender'])\n",
        "\n",
        "# Fitur akhir\n",
        "X = df[['Gender_encoded', 'Price (INR)']]"
      ],
      "metadata": {
        "id": "aziJybnaCX15"
      },
      "execution_count": 8,
      "outputs": []
    },
    {
      "cell_type": "code",
      "source": [
        "# Fitur akhir\n",
        "X = df[['Gender_encoded', 'Price (INR)']]\n",
        "\n",
        "# Normalisasi (optional tapi disarankan)\n",
        "scaler = StandardScaler()\n",
        "X_scaled = scaler.fit_transform(X)"
      ],
      "metadata": {
        "id": "CL1GD06aCqd5"
      },
      "execution_count": 9,
      "outputs": []
    },
    {
      "cell_type": "markdown",
      "source": [
        "##Clustering"
      ],
      "metadata": {
        "id": "L_WAuYKTeioH"
      }
    },
    {
      "cell_type": "code",
      "source": [
        "scaler = StandardScaler()\n",
        "X_scaled = scaler.fit_transform(X)"
      ],
      "metadata": {
        "id": "cQcbOLu8BH_W"
      },
      "execution_count": 10,
      "outputs": []
    },
    {
      "cell_type": "code",
      "source": [
        "# KMeans Clustering\n",
        "kmeans = KMeans(n_clusters=3, random_state=42)\n",
        "df['Cluster'] = kmeans.fit_predict(X_scaled)"
      ],
      "metadata": {
        "id": "aCFliYygDV2I"
      },
      "execution_count": 11,
      "outputs": []
    },
    {
      "cell_type": "code",
      "source": [
        "# Visualisasi hasil cluster\n",
        "plt.figure(figsize=(8, 6))\n",
        "plt.scatter(df['Price (INR)'], df['Gender_encoded'], c=df['Cluster'], cmap='viridis')\n",
        "plt.xlabel('Price (INR)')\n",
        "plt.ylabel('Gender (encoded)')\n",
        "plt.title('Hasil Clustering berdasarkan Gender dan Harga')\n",
        "plt.colorbar(label='Cluster')\n",
        "plt.show()"
      ],
      "metadata": {
        "id": "7aGhYYNUDW-w",
        "outputId": "b6a8401f-397f-4610-ca65-a6a2ccf88ef8",
        "colab": {
          "base_uri": "https://localhost:8080/",
          "height": 564
        }
      },
      "execution_count": 12,
      "outputs": [
        {
          "output_type": "display_data",
          "data": {
            "text/plain": [
              "<Figure size 800x600 with 2 Axes>"
            ],
            "image/png": "[encoded data removed]"
          },
          "metadata": {}
        }
      ]
    },
    {
      "cell_type": "code",
      "source": [
        "# Evaluasi Silhouette Score\n",
        "silhouette_avg = silhouette_score(X_scaled, df['Cluster'])\n",
        "print(f\"Silhouette Score: {silhouette_avg}\")\n",
        "\n",
        "# Menampilkan hasil evaluasi\n",
        "if silhouette_avg > 0.5:\n",
        "    print(\"Silhouette Score di atas 0.5, menunjukkan kualitas clustering yang baik.\")\n",
        "else:\n",
        "    print(\"Silhouette Score kurang dari atau sama dengan 0.5, menunjukkan kualitas clustering yang kurang ideal.\")"
      ],
      "metadata": {
        "colab": {
          "base_uri": "https://localhost:8080/"
        },
        "id": "X5c5NaUhPNC5",
        "outputId": "440a9be6-5846-4c39-cdb8-a3f7d46ef808"
      },
      "execution_count": 13,
      "outputs": [
        {
          "output_type": "stream",
          "name": "stdout",
          "text": [
            "Silhouette Score: 0.6572537626799428\n",
            "Silhouette Score di atas 0.5, menunjukkan kualitas clustering yang baik.\n"
          ]
        }
      ]
    },
    {
      "cell_type": "code",
      "source": [
        "# Evaluasi Davies-Bouldin Index\n",
        "db_index = davies_bouldin_score(X_scaled, df['Cluster'])\n",
        "print(f\"Davies-Bouldin Index: {db_index}\")\n",
        "\n",
        "# Menampilkan hasil evaluasi\n",
        "if db_index < 1.0:\n",
        "    print(\"Davies-Bouldin Index mendekati 0, menunjukkan kualitas clustering yang baik.\")\n",
        "else:\n",
        "    print(\"Davies-Bouldin Index lebih besar, menunjukkan kualitas clustering yang kurang ideal.\")"
      ],
      "metadata": {
        "colab": {
          "base_uri": "https://localhost:8080/"
        },
        "id": "9x90GVzpQJ0z",
        "outputId": "8fa3e241-ee5c-4f60-9b9a-3d621d98054a"
      },
      "execution_count": 15,
      "outputs": [
        {
          "output_type": "stream",
          "name": "stdout",
          "text": [
            "Davies-Bouldin Index: 0.5692719945434451\n",
            "Davies-Bouldin Index mendekati 0, menunjukkan kualitas clustering yang baik.\n"
          ]
        }
      ]
    }
  ]
}